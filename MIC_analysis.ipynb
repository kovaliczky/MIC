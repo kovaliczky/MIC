{
 "cells": [
  {
   "cell_type": "markdown",
   "id": "1b198e3e",
   "metadata": {},
   "source": [
    "# 1. step: Prerequisites"
   ]
  },
  {
   "cell_type": "markdown",
   "id": "ebac3146",
   "metadata": {},
   "source": [
    "The following steps are required for the scripts to run properly.\n",
    "\n",
    "Please run them by pressing <b>SHIFT + ENTER</b>."
   ]
  },
  {
   "cell_type": "markdown",
   "id": "c055b112",
   "metadata": {},
   "source": [
    "## 1.1. Import Libraries"
   ]
  },
  {
   "cell_type": "markdown",
   "id": "700c4fbf",
   "metadata": {},
   "source": [
    "Scripts use the following libraries."
   ]
  },
  {
   "cell_type": "code",
   "execution_count": null,
   "id": "6cf3f662",
   "metadata": {},
   "outputs": [],
   "source": [
    "import numpy as np\n",
    "import pandas as pd\n",
    "#import matplotlib as mp\n",
    "#import matplotlib.pyplot as plt\n",
    "#from matplotlib.patches import Polygon\n",
    "import os\n",
    "import re\n",
    "import math\n",
    "from datetime import datetime\n",
    "from zipfile import ZipFile"
   ]
  },
  {
   "cell_type": "code",
   "execution_count": null,
   "id": "ae4a8ceb",
   "metadata": {},
   "outputs": [],
   "source": [
    "print(np.__version__)"
   ]
  },
  {
   "cell_type": "markdown",
   "id": "34a09721",
   "metadata": {},
   "source": [
    "## 1.2. Set constans (manually)"
   ]
  },
  {
   "cell_type": "markdown",
   "id": "8f57cd4d",
   "metadata": {},
   "source": [
    "Set the dir variable which is the directory where CSV files are located.\n",
    "\n",
    "If you would like to use different directory for unzip file from drive, please set dir_raw variable as well."
   ]
  },
  {
   "cell_type": "code",
   "execution_count": null,
   "id": "ceeca65e",
   "metadata": {},
   "outputs": [],
   "source": [
    "filename = \"MIC\"\n",
    "csv_filename = \"all_MIC.csv\""
   ]
  },
  {
   "cell_type": "code",
   "execution_count": null,
   "id": "012d7ed7",
   "metadata": {},
   "outputs": [],
   "source": [
    "zip_directory = filename + \"/\"\n",
    "print(zip_directory)\n",
    "zip_file = filename + \".zip\"\n",
    "print(zip_file)"
   ]
  },
  {
   "cell_type": "markdown",
   "id": "fdb20bd9",
   "metadata": {},
   "source": [
    "# Unzip"
   ]
  },
  {
   "cell_type": "markdown",
   "id": "f72967ce",
   "metadata": {},
   "source": [
    "<b>uzip function</b> extracts the file.\n",
    "\n",
    "<b>Input:</b> \n",
    "- zip_file (type: string): the path to the file\n",
    "- dir_raw (type: string): where the zip file is unzipped"
   ]
  },
  {
   "cell_type": "code",
   "execution_count": null,
   "id": "d0a1ce73",
   "metadata": {},
   "outputs": [],
   "source": [
    "def unzip(zip_file,zip_directory):\n",
    "    with ZipFile(zip_file, 'r') as zip:\n",
    "        # printing all the contents of the zip file\n",
    "        zip.printdir()\n",
    "\n",
    "        # extracting all the files\n",
    "        print('Extracting all the files now...')\n",
    "        zip.extractall(zip_directory)\n",
    "        print('Done!')"
   ]
  },
  {
   "cell_type": "code",
   "execution_count": null,
   "id": "b6f05a2d",
   "metadata": {},
   "outputs": [],
   "source": [
    "#unzip(zip_file,zip_directory)"
   ]
  },
  {
   "cell_type": "markdown",
   "id": "c4862caa",
   "metadata": {},
   "source": [
    "Check the directory and remove the files!"
   ]
  },
  {
   "cell_type": "code",
   "execution_count": null,
   "id": "bab778f0",
   "metadata": {},
   "outputs": [],
   "source": [
    "dir_list = list(filter(lambda name: \".csv\" in name, os.listdir(zip_directory)))"
   ]
  },
  {
   "cell_type": "code",
   "execution_count": null,
   "id": "cbfe0512",
   "metadata": {},
   "outputs": [],
   "source": [
    "dir_list"
   ]
  },
  {
   "cell_type": "code",
   "execution_count": null,
   "id": "4fe57349",
   "metadata": {},
   "outputs": [],
   "source": [
    "def uniq_column(filename):\n",
    "    df = pd.read_csv(zip_directory + filename)\n",
    "    column = df['Reveal']\n",
    "\n",
    "    values = column.unique()\n",
    "\n",
    "    return values"
   ]
  },
  {
   "cell_type": "code",
   "execution_count": null,
   "id": "e9234d14",
   "metadata": {},
   "outputs": [],
   "source": [
    "def func_max(df,column_name):\n",
    "    column = df[column_name]\n",
    "    return column.max()"
   ]
  },
  {
   "cell_type": "code",
   "execution_count": null,
   "id": "5446d823",
   "metadata": {
    "scrolled": false
   },
   "outputs": [],
   "source": [
    "arr_participant = []\n",
    "avg_sub = []\n",
    "\n",
    "max_sub = []\n",
    "\n",
    "\n",
    "for file in dir_list:\n",
    "    #print(file)\n",
    "    participant = file[:4] \n",
    "    arr_participant.append(participant)\n",
    "    \n",
    "    print(participant)\n",
    "    \n",
    "    values = uniq_column(file)\n",
    "    \n",
    "    df = pd.read_csv(zip_directory + file)\n",
    "    \n",
    "    for value in values:\n",
    "        #print(value)\n",
    "        if value is not np.nan:\n",
    "            df_value = df.loc[df[\"Reveal\"] == value]\n",
    "            \n",
    "            df_value = df_value[[\"Reveal\", \"trials.thisRepN\", \"trials.thisN\", \"trials_3.thisRepN\", \"trials_3.thisN\"]]\n",
    "            \n",
    "            print(df_value.to_string())\n",
    "            \n",
    "            max_1 = func_max(df_value,\"trials.thisRepN\")\n",
    "            print(max_1)\n",
    "            max_2 = func_max(df_value,\"trials_3.thisRepN\")\n",
    "            print(max_2)\n",
    "            \n",
    "            if max_1 is not np.nan:\n",
    "                if max_2 is not np.nan:\n",
    "                    max_sub.append((max_1-max_2)/100)\n",
    "                    #print(max_1-max_2)\n",
    "                    \n",
    "    avg = sum(max_sub) / len(max_sub)\n",
    "    print(avg)\n",
    "    avg_sub.append(avg)\n",
    "    \n",
    "print(avg_sub)\n",
    "print(arr_participant)\n",
    "\n",
    "df_all = pd.Series(avg_sub, index=arr_participant)\n",
    "    \n",
    "#df_all = pd.DataFrame(avg_sub, columns=arr_participant)\n",
    "                    \n",
    "#    new_row = pd.Series(max_sub, index=arr_name_column)\n",
    "#    df_file = df_file.append(new_row, ignore_index=True)\n",
    "            \n",
    "    \n",
    "    \n",
    "    \n",
    "#participant_series = pd.Series(arr_participant)\n",
    "\n",
    "#participant_series = participant_series.rename('participant')\n",
    "\n",
    "#df_all = pd.concat([participant_series, df_file], axis=1)"
   ]
  },
  {
   "cell_type": "code",
   "execution_count": null,
   "id": "96b5b877",
   "metadata": {},
   "outputs": [],
   "source": [
    "len(avg_sub)"
   ]
  },
  {
   "cell_type": "code",
   "execution_count": null,
   "id": "0fa3bb8d",
   "metadata": {},
   "outputs": [],
   "source": [
    "len(arr_participant)"
   ]
  },
  {
   "cell_type": "code",
   "execution_count": null,
   "id": "b575a8e3",
   "metadata": {},
   "outputs": [],
   "source": [
    "print(df_all)"
   ]
  },
  {
   "cell_type": "code",
   "execution_count": null,
   "id": "7c545e0f",
   "metadata": {},
   "outputs": [],
   "source": []
  },
  {
   "cell_type": "code",
   "execution_count": null,
   "id": "7c15f0f7",
   "metadata": {},
   "outputs": [],
   "source": []
  }
 ],
 "metadata": {
  "kernelspec": {
   "display_name": "Python 3.9",
   "language": "python",
   "name": "py39"
  },
  "language_info": {
   "codemirror_mode": {
    "name": "ipython",
    "version": 3
   },
   "file_extension": ".py",
   "mimetype": "text/x-python",
   "name": "python",
   "nbconvert_exporter": "python",
   "pygments_lexer": "ipython3",
   "version": "3.7.4"
  }
 },
 "nbformat": 4,
 "nbformat_minor": 5
}
